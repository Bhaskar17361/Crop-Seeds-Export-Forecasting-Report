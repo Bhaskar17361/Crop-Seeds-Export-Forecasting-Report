{
  "nbformat": 4,
  "nbformat_minor": 0,
  "metadata": {
    "colab": {
      "provenance": []
    },
    "kernelspec": {
      "name": "python3",
      "display_name": "Python 3"
    },
    "language_info": {
      "name": "python"
    }
  },
  "cells": [
    {
      "cell_type": "code",
      "source": [
        "# Step 1: Import necessary libraries\n",
        "import numpy as np\n",
        "import pandas as pd\n",
        "import matplotlib.pyplot as plt\n",
        "from sklearn.model_selection import train_test_split\n",
        "from sklearn.svm import SVC\n",
        "from sklearn.metrics import accuracy_score, classification_report, confusion_matrix\n",
        "from tensorflow import keras\n",
        "from tensorflow.keras.models import Sequential\n",
        "from tensorflow.keras.layers import Dense, Conv2D, MaxPooling2D, Flatten\n",
        "from sklearn.model_selection import train_test_split\n",
        "from sklearn.ensemble import RandomForestClassifier\n",
        "import tensorflow as tf\n",
        "import seaborn as sns\n",
        "from sklearn.preprocessing import StandardScaler\n",
        "from sklearn.tree import DecisionTreeClassifier\n",
        "from sklearn.linear_model import LogisticRegression\n",
        "from sklearn.neighbors import KNeighborsClassifier\n",
        "from sklearn.metrics import classification_report\n",
        "from sklearn.metrics import confusion_matrix\n",
        "from keras.models import Sequential\n",
        "from keras.layers import Dense"
      ],
      "metadata": {
        "id": "TNdKOYRjNR3j"
      },
      "execution_count": 1,
      "outputs": []
    },
    {
      "cell_type": "code",
      "source": [
        "# Load the dataset\n",
        "data = pd.read_csv('Soil_Seeds_DataSet.csv')\n",
        "print(data)"
      ],
      "metadata": {
        "colab": {
          "base_uri": "https://localhost:8080/"
        },
        "id": "ZlNMio91NnEN",
        "outputId": "e211a4b1-a6b5-444a-ce37-e08ba8e0c639"
      },
      "execution_count": 2,
      "outputs": [
        {
          "output_type": "stream",
          "name": "stdout",
          "text": [
            "      Seed_ID        timestamp  Soil humidity 1  Irrigation field 1  \\\n",
            "0           1   2/23/2019 0:00            67.92                   0   \n",
            "1           2   2/23/2019 0:05            67.89                   0   \n",
            "2           3   2/23/2019 0:10            67.86                   0   \n",
            "3           4   2/23/2019 0:15            67.84                   0   \n",
            "4           5   2/23/2019 0:20            67.81                   0   \n",
            "...       ...              ...              ...                 ...   \n",
            "8909     8912  3/25/2019 22:25            39.66                   0   \n",
            "8910     8913  3/25/2019 22:30            39.66                   0   \n",
            "8911     8914  3/25/2019 22:35            39.67                   0   \n",
            "8912     8915  3/25/2019 22:40            39.67                   0   \n",
            "8913     8916  3/25/2019 22:45            39.68                   0   \n",
            "\n",
            "      Soil humidity 2  Irrigation field 2  Soil humidity 3  \\\n",
            "0               55.72                   0            -1.56   \n",
            "1               55.74                   0            -1.51   \n",
            "2               55.77                   0            -1.47   \n",
            "3               55.79                   0            -1.42   \n",
            "4               55.82                   0            -1.38   \n",
            "...               ...                 ...              ...   \n",
            "8909            33.53                   0            43.52   \n",
            "8910            33.50                   0            43.45   \n",
            "8911            33.47                   0            43.38   \n",
            "8912            33.45                   0            43.30   \n",
            "8913            33.42                   0            43.23   \n",
            "\n",
            "      Irrigation field 3  Soil humidity 4  Irrigation field 4  ...  \\\n",
            "0                      1            26.57                   1  ...   \n",
            "1                      1            26.58                   1  ...   \n",
            "2                      1            26.59                   1  ...   \n",
            "3                      1            26.61                   1  ...   \n",
            "4                      1            26.62                   1  ...   \n",
            "...                  ...              ...                 ...  ...   \n",
            "8909                   0            25.82                   0  ...   \n",
            "8910                   0            25.80                   0  ...   \n",
            "8911                   0            25.77                   0  ...   \n",
            "8912                   0            25.75                   0  ...   \n",
            "8913                   0            25.72                   0  ...   \n",
            "\n",
            "      Wind direction (Deg)  Soil_nutrient_levels        Place       Region  \\\n",
            "0                   225.00                 94107       MUMBAI  MAHARASHTRA   \n",
            "1                   123.75                 94114    BENGALURU    KARNATAKA   \n",
            "2                    22.50                   432  NAVI MUMBAI  MAHARASHTRA   \n",
            "3                   123.75                 94103   PUDUCHERRY   PUDUCHERRY   \n",
            "4                   225.00                 94612      CHENNAI   TAMIL NADU   \n",
            "...                    ...                   ...          ...          ...   \n",
            "8909                180.00                101931      KOLKATA  WEST BENGAL   \n",
            "8910                180.00                101932   JAMSHEDPUR    JHARKHAND   \n",
            "8911                180.00                101933    ERNAKULAM       KERALA   \n",
            "8912                180.00                101934    AHMEDABAD      Gujarat   \n",
            "8913                180.00                101935    HYDERABAD    TELANGANA   \n",
            "\n",
            "      Average_Rainfall  Soil_Moisture  Seedling_growth_rate Seed_viability  \\\n",
            "0                  452            466                   617             23   \n",
            "1                  413            457                   617             24   \n",
            "2                  385            424                   617             25   \n",
            "3                  390            395                   617             26   \n",
            "4                  393            408                   617             27   \n",
            "...                ...            ...                   ...            ...   \n",
            "8909             46448          46750                  1475           8932   \n",
            "8910             46449          46751                  1475           8933   \n",
            "8911             46450          46752                  1350           8934   \n",
            "8912             46451          46753                  1350           8935   \n",
            "8913             46452          46754                  1350           8936   \n",
            "\n",
            "     Seed_germination_rate  Soil_texture  \n",
            "0                       38            27  \n",
            "1                       38            19  \n",
            "2                       38            31  \n",
            "3                       38            38  \n",
            "4                       38            20  \n",
            "...                    ...           ...  \n",
            "8909                  7864            24  \n",
            "8910                  7865            24  \n",
            "8911                  7866            24  \n",
            "8912                  7867            24  \n",
            "8913                  7868            24  \n",
            "\n",
            "[8914 rows x 25 columns]\n"
          ]
        }
      ]
    },
    {
      "cell_type": "code",
      "source": [
        "print(data.head)\n",
        "print(data.tail)\n",
        "print(data.describe)"
      ],
      "metadata": {
        "colab": {
          "base_uri": "https://localhost:8080/"
        },
        "id": "pIm0aBDQh2cl",
        "outputId": "36b82136-aa52-4fc4-c68f-2382b751e599"
      },
      "execution_count": 3,
      "outputs": [
        {
          "output_type": "stream",
          "name": "stdout",
          "text": [
            "<bound method NDFrame.head of       Seed_ID        timestamp  Soil humidity 1  Irrigation field 1  \\\n",
            "0           1   2/23/2019 0:00            67.92                   0   \n",
            "1           2   2/23/2019 0:05            67.89                   0   \n",
            "2           3   2/23/2019 0:10            67.86                   0   \n",
            "3           4   2/23/2019 0:15            67.84                   0   \n",
            "4           5   2/23/2019 0:20            67.81                   0   \n",
            "...       ...              ...              ...                 ...   \n",
            "8909     8912  3/25/2019 22:25            39.66                   0   \n",
            "8910     8913  3/25/2019 22:30            39.66                   0   \n",
            "8911     8914  3/25/2019 22:35            39.67                   0   \n",
            "8912     8915  3/25/2019 22:40            39.67                   0   \n",
            "8913     8916  3/25/2019 22:45            39.68                   0   \n",
            "\n",
            "      Soil humidity 2  Irrigation field 2  Soil humidity 3  \\\n",
            "0               55.72                   0            -1.56   \n",
            "1               55.74                   0            -1.51   \n",
            "2               55.77                   0            -1.47   \n",
            "3               55.79                   0            -1.42   \n",
            "4               55.82                   0            -1.38   \n",
            "...               ...                 ...              ...   \n",
            "8909            33.53                   0            43.52   \n",
            "8910            33.50                   0            43.45   \n",
            "8911            33.47                   0            43.38   \n",
            "8912            33.45                   0            43.30   \n",
            "8913            33.42                   0            43.23   \n",
            "\n",
            "      Irrigation field 3  Soil humidity 4  Irrigation field 4  ...  \\\n",
            "0                      1            26.57                   1  ...   \n",
            "1                      1            26.58                   1  ...   \n",
            "2                      1            26.59                   1  ...   \n",
            "3                      1            26.61                   1  ...   \n",
            "4                      1            26.62                   1  ...   \n",
            "...                  ...              ...                 ...  ...   \n",
            "8909                   0            25.82                   0  ...   \n",
            "8910                   0            25.80                   0  ...   \n",
            "8911                   0            25.77                   0  ...   \n",
            "8912                   0            25.75                   0  ...   \n",
            "8913                   0            25.72                   0  ...   \n",
            "\n",
            "      Wind direction (Deg)  Soil_nutrient_levels        Place       Region  \\\n",
            "0                   225.00                 94107       MUMBAI  MAHARASHTRA   \n",
            "1                   123.75                 94114    BENGALURU    KARNATAKA   \n",
            "2                    22.50                   432  NAVI MUMBAI  MAHARASHTRA   \n",
            "3                   123.75                 94103   PUDUCHERRY   PUDUCHERRY   \n",
            "4                   225.00                 94612      CHENNAI   TAMIL NADU   \n",
            "...                    ...                   ...          ...          ...   \n",
            "8909                180.00                101931      KOLKATA  WEST BENGAL   \n",
            "8910                180.00                101932   JAMSHEDPUR    JHARKHAND   \n",
            "8911                180.00                101933    ERNAKULAM       KERALA   \n",
            "8912                180.00                101934    AHMEDABAD      Gujarat   \n",
            "8913                180.00                101935    HYDERABAD    TELANGANA   \n",
            "\n",
            "      Average_Rainfall  Soil_Moisture  Seedling_growth_rate Seed_viability  \\\n",
            "0                  452            466                   617             23   \n",
            "1                  413            457                   617             24   \n",
            "2                  385            424                   617             25   \n",
            "3                  390            395                   617             26   \n",
            "4                  393            408                   617             27   \n",
            "...                ...            ...                   ...            ...   \n",
            "8909             46448          46750                  1475           8932   \n",
            "8910             46449          46751                  1475           8933   \n",
            "8911             46450          46752                  1350           8934   \n",
            "8912             46451          46753                  1350           8935   \n",
            "8913             46452          46754                  1350           8936   \n",
            "\n",
            "     Seed_germination_rate  Soil_texture  \n",
            "0                       38            27  \n",
            "1                       38            19  \n",
            "2                       38            31  \n",
            "3                       38            38  \n",
            "4                       38            20  \n",
            "...                    ...           ...  \n",
            "8909                  7864            24  \n",
            "8910                  7865            24  \n",
            "8911                  7866            24  \n",
            "8912                  7867            24  \n",
            "8913                  7868            24  \n",
            "\n",
            "[8914 rows x 25 columns]>\n",
            "<bound method NDFrame.tail of       Seed_ID        timestamp  Soil humidity 1  Irrigation field 1  \\\n",
            "0           1   2/23/2019 0:00            67.92                   0   \n",
            "1           2   2/23/2019 0:05            67.89                   0   \n",
            "2           3   2/23/2019 0:10            67.86                   0   \n",
            "3           4   2/23/2019 0:15            67.84                   0   \n",
            "4           5   2/23/2019 0:20            67.81                   0   \n",
            "...       ...              ...              ...                 ...   \n",
            "8909     8912  3/25/2019 22:25            39.66                   0   \n",
            "8910     8913  3/25/2019 22:30            39.66                   0   \n",
            "8911     8914  3/25/2019 22:35            39.67                   0   \n",
            "8912     8915  3/25/2019 22:40            39.67                   0   \n",
            "8913     8916  3/25/2019 22:45            39.68                   0   \n",
            "\n",
            "      Soil humidity 2  Irrigation field 2  Soil humidity 3  \\\n",
            "0               55.72                   0            -1.56   \n",
            "1               55.74                   0            -1.51   \n",
            "2               55.77                   0            -1.47   \n",
            "3               55.79                   0            -1.42   \n",
            "4               55.82                   0            -1.38   \n",
            "...               ...                 ...              ...   \n",
            "8909            33.53                   0            43.52   \n",
            "8910            33.50                   0            43.45   \n",
            "8911            33.47                   0            43.38   \n",
            "8912            33.45                   0            43.30   \n",
            "8913            33.42                   0            43.23   \n",
            "\n",
            "      Irrigation field 3  Soil humidity 4  Irrigation field 4  ...  \\\n",
            "0                      1            26.57                   1  ...   \n",
            "1                      1            26.58                   1  ...   \n",
            "2                      1            26.59                   1  ...   \n",
            "3                      1            26.61                   1  ...   \n",
            "4                      1            26.62                   1  ...   \n",
            "...                  ...              ...                 ...  ...   \n",
            "8909                   0            25.82                   0  ...   \n",
            "8910                   0            25.80                   0  ...   \n",
            "8911                   0            25.77                   0  ...   \n",
            "8912                   0            25.75                   0  ...   \n",
            "8913                   0            25.72                   0  ...   \n",
            "\n",
            "      Wind direction (Deg)  Soil_nutrient_levels        Place       Region  \\\n",
            "0                   225.00                 94107       MUMBAI  MAHARASHTRA   \n",
            "1                   123.75                 94114    BENGALURU    KARNATAKA   \n",
            "2                    22.50                   432  NAVI MUMBAI  MAHARASHTRA   \n",
            "3                   123.75                 94103   PUDUCHERRY   PUDUCHERRY   \n",
            "4                   225.00                 94612      CHENNAI   TAMIL NADU   \n",
            "...                    ...                   ...          ...          ...   \n",
            "8909                180.00                101931      KOLKATA  WEST BENGAL   \n",
            "8910                180.00                101932   JAMSHEDPUR    JHARKHAND   \n",
            "8911                180.00                101933    ERNAKULAM       KERALA   \n",
            "8912                180.00                101934    AHMEDABAD      Gujarat   \n",
            "8913                180.00                101935    HYDERABAD    TELANGANA   \n",
            "\n",
            "      Average_Rainfall  Soil_Moisture  Seedling_growth_rate Seed_viability  \\\n",
            "0                  452            466                   617             23   \n",
            "1                  413            457                   617             24   \n",
            "2                  385            424                   617             25   \n",
            "3                  390            395                   617             26   \n",
            "4                  393            408                   617             27   \n",
            "...                ...            ...                   ...            ...   \n",
            "8909             46448          46750                  1475           8932   \n",
            "8910             46449          46751                  1475           8933   \n",
            "8911             46450          46752                  1350           8934   \n",
            "8912             46451          46753                  1350           8935   \n",
            "8913             46452          46754                  1350           8936   \n",
            "\n",
            "     Seed_germination_rate  Soil_texture  \n",
            "0                       38            27  \n",
            "1                       38            19  \n",
            "2                       38            31  \n",
            "3                       38            38  \n",
            "4                       38            20  \n",
            "...                    ...           ...  \n",
            "8909                  7864            24  \n",
            "8910                  7865            24  \n",
            "8911                  7866            24  \n",
            "8912                  7867            24  \n",
            "8913                  7868            24  \n",
            "\n",
            "[8914 rows x 25 columns]>\n",
            "<bound method NDFrame.describe of       Seed_ID        timestamp  Soil humidity 1  Irrigation field 1  \\\n",
            "0           1   2/23/2019 0:00            67.92                   0   \n",
            "1           2   2/23/2019 0:05            67.89                   0   \n",
            "2           3   2/23/2019 0:10            67.86                   0   \n",
            "3           4   2/23/2019 0:15            67.84                   0   \n",
            "4           5   2/23/2019 0:20            67.81                   0   \n",
            "...       ...              ...              ...                 ...   \n",
            "8909     8912  3/25/2019 22:25            39.66                   0   \n",
            "8910     8913  3/25/2019 22:30            39.66                   0   \n",
            "8911     8914  3/25/2019 22:35            39.67                   0   \n",
            "8912     8915  3/25/2019 22:40            39.67                   0   \n",
            "8913     8916  3/25/2019 22:45            39.68                   0   \n",
            "\n",
            "      Soil humidity 2  Irrigation field 2  Soil humidity 3  \\\n",
            "0               55.72                   0            -1.56   \n",
            "1               55.74                   0            -1.51   \n",
            "2               55.77                   0            -1.47   \n",
            "3               55.79                   0            -1.42   \n",
            "4               55.82                   0            -1.38   \n",
            "...               ...                 ...              ...   \n",
            "8909            33.53                   0            43.52   \n",
            "8910            33.50                   0            43.45   \n",
            "8911            33.47                   0            43.38   \n",
            "8912            33.45                   0            43.30   \n",
            "8913            33.42                   0            43.23   \n",
            "\n",
            "      Irrigation field 3  Soil humidity 4  Irrigation field 4  ...  \\\n",
            "0                      1            26.57                   1  ...   \n",
            "1                      1            26.58                   1  ...   \n",
            "2                      1            26.59                   1  ...   \n",
            "3                      1            26.61                   1  ...   \n",
            "4                      1            26.62                   1  ...   \n",
            "...                  ...              ...                 ...  ...   \n",
            "8909                   0            25.82                   0  ...   \n",
            "8910                   0            25.80                   0  ...   \n",
            "8911                   0            25.77                   0  ...   \n",
            "8912                   0            25.75                   0  ...   \n",
            "8913                   0            25.72                   0  ...   \n",
            "\n",
            "      Wind direction (Deg)  Soil_nutrient_levels        Place       Region  \\\n",
            "0                   225.00                 94107       MUMBAI  MAHARASHTRA   \n",
            "1                   123.75                 94114    BENGALURU    KARNATAKA   \n",
            "2                    22.50                   432  NAVI MUMBAI  MAHARASHTRA   \n",
            "3                   123.75                 94103   PUDUCHERRY   PUDUCHERRY   \n",
            "4                   225.00                 94612      CHENNAI   TAMIL NADU   \n",
            "...                    ...                   ...          ...          ...   \n",
            "8909                180.00                101931      KOLKATA  WEST BENGAL   \n",
            "8910                180.00                101932   JAMSHEDPUR    JHARKHAND   \n",
            "8911                180.00                101933    ERNAKULAM       KERALA   \n",
            "8912                180.00                101934    AHMEDABAD      Gujarat   \n",
            "8913                180.00                101935    HYDERABAD    TELANGANA   \n",
            "\n",
            "      Average_Rainfall  Soil_Moisture  Seedling_growth_rate Seed_viability  \\\n",
            "0                  452            466                   617             23   \n",
            "1                  413            457                   617             24   \n",
            "2                  385            424                   617             25   \n",
            "3                  390            395                   617             26   \n",
            "4                  393            408                   617             27   \n",
            "...                ...            ...                   ...            ...   \n",
            "8909             46448          46750                  1475           8932   \n",
            "8910             46449          46751                  1475           8933   \n",
            "8911             46450          46752                  1350           8934   \n",
            "8912             46451          46753                  1350           8935   \n",
            "8913             46452          46754                  1350           8936   \n",
            "\n",
            "     Seed_germination_rate  Soil_texture  \n",
            "0                       38            27  \n",
            "1                       38            19  \n",
            "2                       38            31  \n",
            "3                       38            38  \n",
            "4                       38            20  \n",
            "...                    ...           ...  \n",
            "8909                  7864            24  \n",
            "8910                  7865            24  \n",
            "8911                  7866            24  \n",
            "8912                  7867            24  \n",
            "8913                  7868            24  \n",
            "\n",
            "[8914 rows x 25 columns]>\n"
          ]
        }
      ]
    },
    {
      "cell_type": "code",
      "source": [
        "# Create target variable for classification (1 if next day's closing price is higher, 0 otherwise)\n",
        "data['Target'] = (data['Seed_ID'].shift(-1) > data['Seed_ID']).astype(int)"
      ],
      "metadata": {
        "id": "bx7jeP9c4f_5"
      },
      "execution_count": 4,
      "outputs": []
    },
    {
      "cell_type": "code",
      "source": [
        "# Drop rows with NaN values\n",
        "data.dropna(inplace=True)"
      ],
      "metadata": {
        "id": "cHEGLJ1X4h4F"
      },
      "execution_count": 5,
      "outputs": []
    },
    {
      "cell_type": "code",
      "source": [
        "# Gathering the Companies Strategies Information\n",
        "scaler = StandardScaler()\n",
        "scaled_data = scaler.fit_transform(data[['Seed_ID', 'Soil humidity 1', 'Air temperature (C)', 'Pressure (KPa)']])\n",
        "print(scaled_data)"
      ],
      "metadata": {
        "colab": {
          "base_uri": "https://localhost:8080/"
        },
        "id": "hNEfLjNQmBiY",
        "outputId": "5acb5a84-768d-4af7-e3b8-7d9b71ff047a"
      },
      "execution_count": 6,
      "outputs": [
        {
          "output_type": "stream",
          "name": "stdout",
          "text": [
            "[[-1.73236126  0.49897835 -0.68117379  1.05900959]\n",
            " [-1.73197269  0.49591563 -0.68536913  1.05900959]\n",
            " [-1.73158412  0.49285292 -0.68816603  1.09911483]\n",
            " ...\n",
            " [ 1.73095371 -2.38507882 -1.17902118  0.17669431]\n",
            " [ 1.73134228 -2.38507882 -1.19580255  0.21679955]\n",
            " [ 1.73173085 -2.38405791 -1.21258393  0.25690479]]\n"
          ]
        }
      ]
    },
    {
      "cell_type": "code",
      "source": [
        "# Create features and target variable\n",
        "X = scaled_data[:, :-1]\n",
        "y = data['Target'].values"
      ],
      "metadata": {
        "id": "Q2FbfEIF4uiI"
      },
      "execution_count": 7,
      "outputs": []
    },
    {
      "cell_type": "code",
      "source": [
        "print(type(X))\n",
        "print(type(y))"
      ],
      "metadata": {
        "colab": {
          "base_uri": "https://localhost:8080/"
        },
        "id": "GalB4G2GUiIJ",
        "outputId": "d8bfee51-25b6-4de8-daad-cc63caea4a81"
      },
      "execution_count": 8,
      "outputs": [
        {
          "output_type": "stream",
          "name": "stdout",
          "text": [
            "<class 'numpy.ndarray'>\n",
            "<class 'numpy.ndarray'>\n"
          ]
        }
      ]
    },
    {
      "cell_type": "code",
      "source": [
        "# Split the data into training and testing sets\n",
        "X_train, X_test, y_train, y_test = train_test_split(X, y, test_size=0.2, random_state=42)"
      ],
      "metadata": {
        "id": "TC_srqexNyQU"
      },
      "execution_count": 20,
      "outputs": []
    },
    {
      "cell_type": "code",
      "source": [
        "print(X_train)"
      ],
      "metadata": {
        "colab": {
          "base_uri": "https://localhost:8080/"
        },
        "id": "07uEc9uhN1c3",
        "outputId": "db3f9716-a8b1-4a1e-cd66-b82a6e07e177"
      },
      "execution_count": 21,
      "outputs": [
        {
          "output_type": "stream",
          "name": "stdout",
          "text": [
            "[[ 0.15530666 -0.44842167 -0.12459159]\n",
            " [-0.62571692  0.50714559 -0.80283874]\n",
            " [ 1.35598468 -1.56018742  0.13132435]\n",
            " ...\n",
            " [ 0.36280247  2.29475058  1.49341244]\n",
            " [-1.3978034   0.40505507 -1.01120745]\n",
            " [ 1.09331208 -0.18502813 -0.96925402]]\n"
          ]
        }
      ]
    },
    {
      "cell_type": "code",
      "source": [
        "# Decision Tree\n",
        "dt_model = DecisionTreeClassifier()\n",
        "dt_model.fit(X_train, y_train)\n",
        "dt_predictions = dt_model.predict(X_test)\n",
        "dt_accuracy = accuracy_score(y_test, dt_predictions)\n",
        "print(f'Decision Tree Accuracy: {dt_accuracy}')"
      ],
      "metadata": {
        "id": "6aYm4hucN6sO",
        "colab": {
          "base_uri": "https://localhost:8080/"
        },
        "outputId": "ee293f12-1996-4b4f-c6b6-34771e97ba26"
      },
      "execution_count": 22,
      "outputs": [
        {
          "output_type": "stream",
          "name": "stdout",
          "text": [
            "Decision Tree Accuracy: 0.9994391475042064\n"
          ]
        }
      ]
    },
    {
      "cell_type": "code",
      "source": [
        "# Random Forest\n",
        "rf_model = RandomForestClassifier()\n",
        "rf_model.fit(X_train, y_train)\n",
        "rf_predictions = rf_model.predict(X_test)\n",
        "rf_accuracy = accuracy_score(y_test, rf_predictions)\n",
        "print(f'Random Forest Accuracy: {rf_accuracy}')"
      ],
      "metadata": {
        "id": "S3qK-nD0N-ku",
        "colab": {
          "base_uri": "https://localhost:8080/"
        },
        "outputId": "5d50190f-4391-46bd-8d78-ff7d09e674aa"
      },
      "execution_count": 23,
      "outputs": [
        {
          "output_type": "stream",
          "name": "stdout",
          "text": [
            "Random Forest Accuracy: 1.0\n"
          ]
        }
      ]
    },
    {
      "cell_type": "code",
      "source": [
        "# Logistic Regression\n",
        "lr_model = LogisticRegression()\n",
        "lr_model.fit(X_train, y_train)\n",
        "lr_predictions = lr_model.predict(X_test)\n",
        "lr_accuracy = accuracy_score(y_test, lr_predictions)\n",
        "print(f'Logistic Regression Accuracy: {lr_accuracy}')"
      ],
      "metadata": {
        "id": "4zgao2P-OBpH",
        "colab": {
          "base_uri": "https://localhost:8080/"
        },
        "outputId": "69bce2c7-dcd5-4a6d-a75e-d6b73b8acb73"
      },
      "execution_count": 24,
      "outputs": [
        {
          "output_type": "stream",
          "name": "stdout",
          "text": [
            "Logistic Regression Accuracy: 1.0\n"
          ]
        }
      ]
    },
    {
      "cell_type": "code",
      "source": [
        "# Support Vector Machine (SVM)\n",
        "svm_model = SVC()\n",
        "svm_model.fit(X_train, y_train)\n",
        "svm_predictions = svm_model.predict(X_test)\n",
        "svm_accuracy = accuracy_score(y_test, svm_predictions)\n",
        "print(f'SVM Accuracy: {svm_accuracy}')"
      ],
      "metadata": {
        "id": "joU5K8sFOEZc",
        "colab": {
          "base_uri": "https://localhost:8080/"
        },
        "outputId": "c8a7794c-94bf-4bd8-8dbe-fcc8dee766d1"
      },
      "execution_count": 25,
      "outputs": [
        {
          "output_type": "stream",
          "name": "stdout",
          "text": [
            "SVM Accuracy: 1.0\n"
          ]
        }
      ]
    },
    {
      "cell_type": "code",
      "source": [
        "# K-Nearest Neighbors (KNN)\n",
        "knn_classifier = KNeighborsClassifier()\n",
        "knn_classifier.fit(X_train, y_train)\n",
        "knn_predictions = knn_classifier.predict(X_test)\n",
        "print(knn_predictions)"
      ],
      "metadata": {
        "id": "LnRbQUw-OG33",
        "colab": {
          "base_uri": "https://localhost:8080/"
        },
        "outputId": "db0095c8-b11e-4389-a912-569e20b2a925"
      },
      "execution_count": 26,
      "outputs": [
        {
          "output_type": "stream",
          "name": "stdout",
          "text": [
            "[1 1 1 ... 1 1 1]\n"
          ]
        }
      ]
    },
    {
      "cell_type": "code",
      "source": [
        "# Neural Network using TensorFlow\n",
        "model = Sequential()\n",
        "model.add(Dense(64, input_dim=X_train.shape[1], activation='relu'))\n",
        "model.add(Dense(1, activation='sigmoid'))\n",
        "model.compile(optimizer='adam', loss='binary_crossentropy', metrics=['accuracy'])\n",
        "model.fit(X_train, y_train, epochs=20, batch_size=32, validation_data=(X_test, y_test))\n",
        "nn_predictions = (model.predict(X_test) > 0.5).astype(int).flatten()\n",
        "nn_accuracy = accuracy_score(y_test, nn_predictions)\n",
        "print(f'Neural Network Accuracy: {nn_accuracy}')"
      ],
      "metadata": {
        "id": "sWt0WlZU52g8",
        "colab": {
          "base_uri": "https://localhost:8080/"
        },
        "outputId": "cbe02da3-b4ac-4cde-d808-2e4e8c32f975"
      },
      "execution_count": 27,
      "outputs": [
        {
          "output_type": "stream",
          "name": "stdout",
          "text": [
            "Epoch 1/20\n",
            "223/223 [==============================] - 4s 11ms/step - loss: 0.2631 - accuracy: 0.9605 - val_loss: 0.0594 - val_accuracy: 1.0000\n",
            "Epoch 2/20\n",
            "223/223 [==============================] - 2s 8ms/step - loss: 0.0295 - accuracy: 0.9999 - val_loss: 0.0136 - val_accuracy: 1.0000\n",
            "Epoch 3/20\n",
            "223/223 [==============================] - 1s 5ms/step - loss: 0.0096 - accuracy: 0.9999 - val_loss: 0.0056 - val_accuracy: 1.0000\n",
            "Epoch 4/20\n",
            "223/223 [==============================] - 1s 7ms/step - loss: 0.0051 - accuracy: 0.9999 - val_loss: 0.0030 - val_accuracy: 1.0000\n",
            "Epoch 5/20\n",
            "223/223 [==============================] - 2s 9ms/step - loss: 0.0035 - accuracy: 0.9999 - val_loss: 0.0018 - val_accuracy: 1.0000\n",
            "Epoch 6/20\n",
            "223/223 [==============================] - 2s 8ms/step - loss: 0.0027 - accuracy: 0.9999 - val_loss: 0.0012 - val_accuracy: 1.0000\n",
            "Epoch 7/20\n",
            "223/223 [==============================] - 1s 3ms/step - loss: 0.0023 - accuracy: 0.9999 - val_loss: 8.9553e-04 - val_accuracy: 1.0000\n",
            "Epoch 8/20\n",
            "223/223 [==============================] - 1s 3ms/step - loss: 0.0020 - accuracy: 0.9999 - val_loss: 6.9110e-04 - val_accuracy: 1.0000\n",
            "Epoch 9/20\n",
            "223/223 [==============================] - 1s 3ms/step - loss: 0.0019 - accuracy: 0.9999 - val_loss: 5.3542e-04 - val_accuracy: 1.0000\n",
            "Epoch 10/20\n",
            "223/223 [==============================] - 1s 2ms/step - loss: 0.0017 - accuracy: 0.9999 - val_loss: 4.3100e-04 - val_accuracy: 1.0000\n",
            "Epoch 11/20\n",
            "223/223 [==============================] - 1s 3ms/step - loss: 0.0016 - accuracy: 0.9999 - val_loss: 3.7998e-04 - val_accuracy: 1.0000\n",
            "Epoch 12/20\n",
            "223/223 [==============================] - 1s 2ms/step - loss: 0.0016 - accuracy: 0.9999 - val_loss: 3.3831e-04 - val_accuracy: 1.0000\n",
            "Epoch 13/20\n",
            "223/223 [==============================] - 1s 3ms/step - loss: 0.0015 - accuracy: 0.9999 - val_loss: 2.8818e-04 - val_accuracy: 1.0000\n",
            "Epoch 14/20\n",
            "223/223 [==============================] - 1s 3ms/step - loss: 0.0014 - accuracy: 0.9999 - val_loss: 2.4886e-04 - val_accuracy: 1.0000\n",
            "Epoch 15/20\n",
            "223/223 [==============================] - 1s 3ms/step - loss: 0.0014 - accuracy: 0.9999 - val_loss: 2.5496e-04 - val_accuracy: 1.0000\n",
            "Epoch 16/20\n",
            "223/223 [==============================] - 1s 3ms/step - loss: 0.0013 - accuracy: 0.9999 - val_loss: 2.4183e-04 - val_accuracy: 1.0000\n",
            "Epoch 17/20\n",
            "223/223 [==============================] - 1s 3ms/step - loss: 0.0013 - accuracy: 0.9999 - val_loss: 2.2062e-04 - val_accuracy: 1.0000\n",
            "Epoch 18/20\n",
            "223/223 [==============================] - 1s 2ms/step - loss: 0.0012 - accuracy: 0.9999 - val_loss: 1.8780e-04 - val_accuracy: 1.0000\n",
            "Epoch 19/20\n",
            "223/223 [==============================] - 1s 3ms/step - loss: 0.0012 - accuracy: 0.9999 - val_loss: 1.6982e-04 - val_accuracy: 1.0000\n",
            "Epoch 20/20\n",
            "223/223 [==============================] - 1s 3ms/step - loss: 0.0012 - accuracy: 0.9999 - val_loss: 1.9862e-04 - val_accuracy: 1.0000\n",
            "56/56 [==============================] - 0s 1ms/step\n",
            "Neural Network Accuracy: 1.0\n"
          ]
        }
      ]
    },
    {
      "cell_type": "code",
      "source": [
        "# Deep Learning with Keras\n",
        "model = Sequential()\n",
        "model.add(Dense(units=64, activation='relu', input_dim=X_train.shape[1]))\n",
        "model.add(Dense(units=32, activation='relu'))\n",
        "model.add(Dense(units=1, activation='sigmoid'))\n",
        "model.compile(optimizer='adam', loss='binary_crossentropy', metrics=['accuracy'])\n",
        "model.fit(X_train, y_train, epochs=10, batch_size=32, verbose=1)\n",
        "dl_predictions = (model.predict(X_test) > 0.5).astype(int).flatten()\n",
        "dl_accuracy = accuracy_score(y_test, dl_predictions)\n",
        "print(f'DL Accuracy: {dl_accuracy}')"
      ],
      "metadata": {
        "id": "kobdVdf9OJdV",
        "colab": {
          "base_uri": "https://localhost:8080/"
        },
        "outputId": "08e97a60-8375-4d57-adee-460cb72f67d2"
      },
      "execution_count": 29,
      "outputs": [
        {
          "output_type": "stream",
          "name": "stdout",
          "text": [
            "Epoch 1/10\n",
            "223/223 [==============================] - 2s 3ms/step - loss: 0.1073 - accuracy: 0.9899\n",
            "Epoch 2/10\n",
            "223/223 [==============================] - 1s 4ms/step - loss: 0.0039 - accuracy: 0.9999\n",
            "Epoch 3/10\n",
            "223/223 [==============================] - 1s 4ms/step - loss: 0.0024 - accuracy: 0.9999\n",
            "Epoch 4/10\n",
            "223/223 [==============================] - 1s 3ms/step - loss: 0.0020 - accuracy: 0.9999\n",
            "Epoch 5/10\n",
            "223/223 [==============================] - 0s 2ms/step - loss: 0.0018 - accuracy: 0.9999\n",
            "Epoch 6/10\n",
            "223/223 [==============================] - 0s 2ms/step - loss: 0.0016 - accuracy: 0.9999\n",
            "Epoch 7/10\n",
            "223/223 [==============================] - 0s 2ms/step - loss: 0.0015 - accuracy: 0.9999\n",
            "Epoch 8/10\n",
            "223/223 [==============================] - 1s 2ms/step - loss: 0.0014 - accuracy: 0.9999\n",
            "Epoch 9/10\n",
            "223/223 [==============================] - 0s 2ms/step - loss: 0.0013 - accuracy: 0.9999\n",
            "Epoch 10/10\n",
            "223/223 [==============================] - 1s 2ms/step - loss: 0.0013 - accuracy: 0.9999\n",
            "56/56 [==============================] - 0s 1ms/step\n",
            "DL Accuracy: 1.0\n"
          ]
        }
      ]
    },
    {
      "cell_type": "code",
      "source": [
        "# Evaluation\n",
        "print(\"Random Forest Classifier Accuracy:\", accuracy_score(y_test, rf_predictions))\n",
        "print(\"Logistic Regression Accuracy:\", accuracy_score(y_test, lr_predictions))\n",
        "print(\"SVM Accuracy:\", accuracy_score(y_test, svm_predictions))\n",
        "print(\"KNN Accuracy:\", accuracy_score(y_test, knn_predictions))\n",
        "print(\"Deep Learning Accuracy:\", accuracy_score(y_test, dl_predictions))\n",
        "print(f'Decision Tree Accuracy: {dt_accuracy}')\n",
        "print(\"DL Accuracy:\", accuracy_score(y_test, dl_predictions))"
      ],
      "metadata": {
        "id": "iHJ1rD4_OOCB",
        "colab": {
          "base_uri": "https://localhost:8080/"
        },
        "outputId": "bfbc5b75-a221-437e-88bf-0d09b8b2ea67"
      },
      "execution_count": 30,
      "outputs": [
        {
          "output_type": "stream",
          "name": "stdout",
          "text": [
            "Random Forest Classifier Accuracy: 1.0\n",
            "Logistic Regression Accuracy: 1.0\n",
            "SVM Accuracy: 1.0\n",
            "KNN Accuracy: 1.0\n",
            "Deep Learning Accuracy: 1.0\n",
            "Decision Tree Accuracy: 0.9994391475042064\n",
            "DL Accuracy: 1.0\n"
          ]
        }
      ]
    },
    {
      "cell_type": "code",
      "source": [
        "# Confusion Matrix :\n",
        "print(\"\\nConfusion Matrix for #RandomForestClassifier:\")\n",
        "print(confusion_matrix(y_test, rf_predictions))"
      ],
      "metadata": {
        "id": "XoidlIFkOVBv",
        "colab": {
          "base_uri": "https://localhost:8080/"
        },
        "outputId": "ccef1ce0-0c5e-4135-a158-d7a7fab6d892"
      },
      "execution_count": 31,
      "outputs": [
        {
          "output_type": "stream",
          "name": "stdout",
          "text": [
            "\n",
            "Confusion Matrix for #RandomForestClassifier:\n",
            "[[1783]]\n"
          ]
        }
      ]
    },
    {
      "cell_type": "code",
      "source": [
        "# Confusion Matrix :\n",
        "print(\"\\nConfusion Matrix for #Logistic Regression :\")\n",
        "print(confusion_matrix(y_test, lr_predictions))"
      ],
      "metadata": {
        "id": "7qz3tSPCOXzv",
        "colab": {
          "base_uri": "https://localhost:8080/"
        },
        "outputId": "444802b2-48ed-4b61-b897-22f33e33de97"
      },
      "execution_count": 32,
      "outputs": [
        {
          "output_type": "stream",
          "name": "stdout",
          "text": [
            "\n",
            "Confusion Matrix for #Logistic Regression :\n",
            "[[1783]]\n"
          ]
        }
      ]
    },
    {
      "cell_type": "code",
      "source": [
        "# Confusion Matrix :\n",
        "print(\"\\nConfusion Matrix for #Support Vector Machine:\")\n",
        "print(confusion_matrix(y_test, svm_predictions))"
      ],
      "metadata": {
        "id": "tM3B861gOaj8",
        "colab": {
          "base_uri": "https://localhost:8080/"
        },
        "outputId": "f6f0cd70-94e6-4cba-cac9-c35de7d98d1c"
      },
      "execution_count": 33,
      "outputs": [
        {
          "output_type": "stream",
          "name": "stdout",
          "text": [
            "\n",
            "Confusion Matrix for #Support Vector Machine:\n",
            "[[1783]]\n"
          ]
        }
      ]
    },
    {
      "cell_type": "code",
      "source": [
        "# Confusion Matrix :\n",
        "print(\"\\nConfusion Matrix for #KNeighborsClassifier:\")\n",
        "print(confusion_matrix(y_test, knn_predictions))"
      ],
      "metadata": {
        "id": "0OskEJOFOdXf",
        "colab": {
          "base_uri": "https://localhost:8080/"
        },
        "outputId": "d8765a5f-3e7e-4194-f6e9-e2443a722b47"
      },
      "execution_count": 34,
      "outputs": [
        {
          "output_type": "stream",
          "name": "stdout",
          "text": [
            "\n",
            "Confusion Matrix for #KNeighborsClassifier:\n",
            "[[1783]]\n"
          ]
        }
      ]
    },
    {
      "cell_type": "code",
      "source": [
        "# Splitting the dataset into the Training set and Test set\n",
        "X_train, X_test, y_train, y_test = train_test_split(X, y, test_size=0.4, random_state=54)\n",
        "# Feature Scaling\n",
        "sc = StandardScaler()\n",
        "X_train = sc.fit_transform(X_train)\n",
        "X_test = sc.transform(X_test)\n",
        "print(X_test)"
      ],
      "metadata": {
        "id": "c9dNoBS7pfpa",
        "colab": {
          "base_uri": "https://localhost:8080/"
        },
        "outputId": "68e74fb7-2f21-4281-d369-328955964b15"
      },
      "execution_count": 35,
      "outputs": [
        {
          "output_type": "stream",
          "name": "stdout",
          "text": [
            "[[ 0.53012121  0.76869425 -0.89201237]\n",
            " [-0.58695106  0.50957198 -1.5424783 ]\n",
            " [-0.8989542   0.45592557  0.9936394 ]\n",
            " ...\n",
            " [-0.04570526 -0.10078243 -1.03469522]\n",
            " [ 0.4943749   1.2009021  -0.64581451]\n",
            " [ 1.344904   -1.27897901  0.23126535]]\n"
          ]
        }
      ]
    },
    {
      "cell_type": "code",
      "source": [
        "'''Implement and train SVM model'''\n",
        "svm_model = SVC(kernel='linear')\n",
        "svm_model.fit(X_train, y_train)\n",
        "svm_accuracy = svm_model.score(X_test, y_test)\n",
        "print(\"SVM Accuracy:\", svm_accuracy)"
      ],
      "metadata": {
        "id": "e2whAQc_Ojno",
        "colab": {
          "base_uri": "https://localhost:8080/"
        },
        "outputId": "c58d785a-0895-4eee-a70d-c7dae645be7c"
      },
      "execution_count": 36,
      "outputs": [
        {
          "output_type": "stream",
          "name": "stdout",
          "text": [
            "SVM Accuracy: 1.0\n"
          ]
        }
      ]
    },
    {
      "cell_type": "code",
      "source": [
        "'''Implement and train CNN model'''\n",
        "\n",
        "X_train_cnn = X_train.reshape(X_train.shape[0], X_train.shape[1], 1)\n",
        "X_test_cnn = X_test.reshape(X_test.shape[0], X_test.shape[1], 1)\n",
        "print(X_train_cnn)\n",
        "print(X_test_cnn)"
      ],
      "metadata": {
        "id": "HhdUkeWzOnJd",
        "colab": {
          "base_uri": "https://localhost:8080/"
        },
        "outputId": "91a5285f-d1bf-49f3-f7e4-b6ca62a43e1a"
      },
      "execution_count": 37,
      "outputs": [
        {
          "output_type": "stream",
          "name": "stdout",
          "text": [
            "[[[ 1.04455727]\n",
            "  [ 0.4194865 ]\n",
            "  [-0.27372002]]\n",
            "\n",
            " [[ 0.69020252]\n",
            "  [ 0.70593808]\n",
            "  [ 1.20626482]]\n",
            "\n",
            " [[-0.93198068]\n",
            "  [ 0.66140143]\n",
            "  [-1.10603664]]\n",
            "\n",
            " ...\n",
            "\n",
            " [[-1.38502634]\n",
            "  [ 0.32434004]\n",
            "  [-0.79129506]]\n",
            "\n",
            " [[ 1.17782885]\n",
            "  [-0.73340516]\n",
            "  [-0.75212722]]\n",
            "\n",
            " [[ 1.09467982]\n",
            "  [-0.18884352]\n",
            "  [-1.01371245]]]\n",
            "[[[ 0.53012121]\n",
            "  [ 0.76869425]\n",
            "  [-0.89201237]]\n",
            "\n",
            " [[-0.58695106]\n",
            "  [ 0.50957198]\n",
            "  [-1.5424783 ]]\n",
            "\n",
            " [[-0.8989542 ]\n",
            "  [ 0.45592557]\n",
            "  [ 0.9936394 ]]\n",
            "\n",
            " ...\n",
            "\n",
            " [[-0.04570526]\n",
            "  [-0.10078243]\n",
            "  [-1.03469522]]\n",
            "\n",
            " [[ 0.4943749 ]\n",
            "  [ 1.2009021 ]\n",
            "  [-0.64581451]]\n",
            "\n",
            " [[ 1.344904  ]\n",
            "  [-1.27897901]\n",
            "  [ 0.23126535]]]\n"
          ]
        }
      ]
    },
    {
      "cell_type": "code",
      "source": [
        "# Step 6: Visualize the results\n",
        "# Assuming you have predictions from both models\n",
        "svm_predictions = svm_model.predict(X_test)\n",
        "print(svm_predictions)"
      ],
      "metadata": {
        "id": "o2Grcm59OyoA",
        "colab": {
          "base_uri": "https://localhost:8080/"
        },
        "outputId": "42bee151-1bcd-4629-f0b1-ac609caace6f"
      },
      "execution_count": 38,
      "outputs": [
        {
          "output_type": "stream",
          "name": "stdout",
          "text": [
            "[1 1 1 ... 1 1 1]\n"
          ]
        }
      ]
    },
    {
      "cell_type": "code",
      "source": [
        "# Plotting SVM predictions\n",
        "plt.figure(figsize=(10, 5))\n",
        "plt.subplot(1, 2, 1)\n",
        "plt.scatter(range(len(y_test)), y_test, label='Actual', color='blue')\n",
        "plt.scatter(range(len(svm_predictions)), svm_predictions, label='Predicted (SVM)', color='red')\n",
        "plt.title('SVM Predictions')\n",
        "plt.legend()"
      ],
      "metadata": {
        "id": "tT8AmgBuO1_a",
        "colab": {
          "base_uri": "https://localhost:8080/",
          "height": 485
        },
        "outputId": "145c5217-9cfb-48df-cd79-8d21c46bc925"
      },
      "execution_count": 39,
      "outputs": [
        {
          "output_type": "execute_result",
          "data": {
            "text/plain": [
              "<matplotlib.legend.Legend at 0x7b418ffb3760>"
            ]
          },
          "metadata": {},
          "execution_count": 39
        },
        {
          "output_type": "display_data",
          "data": {
            "text/plain": [
              "<Figure size 1000x500 with 1 Axes>"
            ],
            "image/png": "[encoded data removed]"
          },
          "metadata": {}
        }
      ]
    },
    {
      "cell_type": "code",
      "source": [
        "# Plotting LR predictions\n",
        "plt.subplot(1, 2, 2)\n",
        "plt.scatter(range(len(y_test)), y_test, label='Actual', color='blue')\n",
        "plt.scatter(range(len(lr_predictions)), lr_predictions, label='Predicted (LR)', color='green')\n",
        "plt.title('LR Predictions')\n",
        "plt.legend()\n",
        "plt.show()"
      ],
      "metadata": {
        "id": "QE-YsqTUO66v",
        "colab": {
          "base_uri": "https://localhost:8080/",
          "height": 452
        },
        "outputId": "618a1d0e-f7d4-4737-d896-02f08dfc831b"
      },
      "execution_count": 40,
      "outputs": [
        {
          "output_type": "display_data",
          "data": {
            "text/plain": [
              "<Figure size 640x480 with 1 Axes>"
            ],
            "image/png": "[encoded data removed]"
          },
          "metadata": {}
        }
      ]
    },
    {
      "cell_type": "code",
      "source": [
        "# Plotting RF predictions\n",
        "plt.subplot(1, 2, 2)\n",
        "plt.scatter(range(len(y_test)), y_test, label='Actual', color='red')\n",
        "plt.scatter(range(len(rf_predictions)), rf_predictions, label='Predicted (RF)', color='yellow')\n",
        "plt.title('RF Predictions')\n",
        "plt.legend()\n",
        "plt.show()"
      ],
      "metadata": {
        "colab": {
          "base_uri": "https://localhost:8080/",
          "height": 452
        },
        "id": "dkDEn5Mcq_d-",
        "outputId": "2ce9dc75-36c1-4890-ee52-3e316be6bf29"
      },
      "execution_count": 41,
      "outputs": [
        {
          "output_type": "display_data",
          "data": {
            "text/plain": [
              "<Figure size 640x480 with 1 Axes>"
            ],
            "image/png": "[encoded data removed]"
          },
          "metadata": {}
        }
      ]
    },
    {
      "cell_type": "code",
      "source": [
        "# Plotting DT predictions\n",
        "plt.subplot(1, 2, 2)\n",
        "plt.scatter(range(len(y_test)), y_test, label='Actual', color='green')\n",
        "plt.scatter(range(len(dt_predictions)), dt_predictions, label='Predicted (DT)', color='purple')\n",
        "plt.title('LR Predictions')\n",
        "plt.legend()\n",
        "plt.show()"
      ],
      "metadata": {
        "colab": {
          "base_uri": "https://localhost:8080/",
          "height": 452
        },
        "id": "WpCtB5uTrIp2",
        "outputId": "e4fdf308-1e04-4ccc-bf5e-23efca5039ca"
      },
      "execution_count": 42,
      "outputs": [
        {
          "output_type": "display_data",
          "data": {
            "text/plain": [
              "<Figure size 640x480 with 1 Axes>"
            ],
            "image/png": "[encoded data removed]"
          },
          "metadata": {}
        }
      ]
    },
    {
      "cell_type": "code",
      "source": [
        "# Plotting SVM predictions\n",
        "plt.subplot(1, 2, 2)\n",
        "plt.scatter(range(len(y_test)), y_test, label='Actual', color='orange')\n",
        "plt.scatter(range(len(svm_predictions)), svm_predictions, label='Predicted (SVM)', color='pink')\n",
        "plt.title('SVM Predictions')\n",
        "plt.legend()\n",
        "plt.show()"
      ],
      "metadata": {
        "colab": {
          "base_uri": "https://localhost:8080/",
          "height": 452
        },
        "id": "aIpb2hWzrla8",
        "outputId": "ec66e296-59c4-48e0-d254-64a6365069aa"
      },
      "execution_count": 43,
      "outputs": [
        {
          "output_type": "display_data",
          "data": {
            "text/plain": [
              "<Figure size 640x480 with 1 Axes>"
            ],
            "image/png": "[encoded data removed]"
          },
          "metadata": {}
        }
      ]
    },
    {
      "cell_type": "code",
      "source": [
        "# Plotting KNN predictions\n",
        "plt.subplot(1, 2, 2)\n",
        "plt.scatter(range(len(y_test)), y_test, label='Actual', color='blue')\n",
        "plt.scatter(range(len(knn_predictions)), knn_predictions, label='Predicted (KNN)', color='orange')\n",
        "plt.title('KNN Predictions')\n",
        "plt.legend()\n",
        "plt.show()"
      ],
      "metadata": {
        "colab": {
          "base_uri": "https://localhost:8080/",
          "height": 452
        },
        "id": "Obh_M0Vor8cp",
        "outputId": "daff4c41-c697-4ad6-d772-a9e4d2064a23"
      },
      "execution_count": 44,
      "outputs": [
        {
          "output_type": "display_data",
          "data": {
            "text/plain": [
              "<Figure size 640x480 with 1 Axes>"
            ],
            "image/png": "[encoded data removed]"
          },
          "metadata": {}
        }
      ]
    },
    {
      "cell_type": "code",
      "source": [
        "# Plotting DL predictions\n",
        "plt.subplot(1, 2, 2)\n",
        "plt.scatter(range(len(y_test)), y_test, label='Actual', color='green')\n",
        "plt.scatter(range(len(dl_predictions)), dl_predictions, label='Predicted (DL)', color='purple')\n",
        "plt.title('DL Predictions')\n",
        "plt.legend()\n",
        "plt.show()"
      ],
      "metadata": {
        "colab": {
          "base_uri": "https://localhost:8080/",
          "height": 452
        },
        "id": "XXNe-xxhsJ_e",
        "outputId": "17875f2d-10e8-4166-c740-feca8556ad9d"
      },
      "execution_count": 45,
      "outputs": [
        {
          "output_type": "display_data",
          "data": {
            "text/plain": [
              "<Figure size 640x480 with 1 Axes>"
            ],
            "image/png": "[encoded data removed]"
          },
          "metadata": {}
        }
      ]
    }
  ]
}